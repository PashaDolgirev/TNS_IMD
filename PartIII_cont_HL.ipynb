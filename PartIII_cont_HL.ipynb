{
 "cells": [
  {
   "cell_type": "code",
   "execution_count": null,
   "id": "c3e2ff58",
   "metadata": {},
   "outputs": [],
   "source": [
    "using ITensors, ITensorMPS, Optim, LinearAlgebra, Printf, Random, Plots, DelimitedFiles\n",
    "include(\"src/basic_CPHL_utils.jl\")\n",
    "\n",
    "\n",
    "N_g = 30;\n",
    "g_vals = collect(range(-1, 1; length = N_g + 2)[2:end-1]);"
   ]
  },
  {
   "cell_type": "code",
   "execution_count": null,
   "id": "544a4c6e",
   "metadata": {},
   "outputs": [],
   "source": [
    "M_max = 5 \n",
    "DesignMat, HarmFromVecMat = ConstructDesignMatrix(g_vals, M_max)\n",
    "\n",
    "CMat = zeros(Float64, length(g_vals), 2)\n",
    "\n",
    "CMat[:, 1] = sin.(pi * 1 .* (g_vals .+ 1) / 2) + 0.1 * sin.(pi * 2 .* (g_vals .+ 1) / 2) - 0.3 * sin.(pi * 3 .* (g_vals .+ 1) / 2) - 0.13 * sin.(pi * 5 .* (g_vals .+ 1) / 2)\n",
    "CMat[:, 2] = -0.2 * sin.(pi * 1 .* (g_vals .+ 1) / 2)\n",
    "\n",
    "\n",
    "ALPHAMat =  zeros(M_max, 2);\n",
    "ALPHAMat[:, 1] = [1; 0.1; -0.3; 0.0; -0.13]\n",
    "ALPHAMat[:, 2] = [-0.2; 0; 0; 0; 0]\n",
    "\n",
    "@show norm(ALPHAMat - EstimateHarmFromCMat(CMat, HarmFromVecMat))\n",
    "\n",
    "norm(GenerateCMatFromALPHAMat(ALPHAMat, DesignMat) - CMat)"
   ]
  },
  {
   "cell_type": "code",
   "execution_count": null,
   "id": "c73ed1bf",
   "metadata": {},
   "outputs": [],
   "source": [
    "typeof(g_vals)"
   ]
  },
  {
   "cell_type": "code",
   "execution_count": null,
   "id": "a61ca1d0",
   "metadata": {},
   "outputs": [],
   "source": [
    "include(\"src/CPHL_module.jl\")\n",
    "\n",
    "cphl = CPHL.CPHLSolver(10, g_vals)"
   ]
  },
  {
   "cell_type": "code",
   "execution_count": null,
   "id": "89142de4",
   "metadata": {},
   "outputs": [],
   "source": [
    "cphl.psi0"
   ]
  },
  {
   "cell_type": "code",
   "execution_count": null,
   "id": "481dcb56",
   "metadata": {},
   "outputs": [],
   "source": []
  }
 ],
 "metadata": {
  "kernelspec": {
   "display_name": "Julia 1.11.5",
   "language": "julia",
   "name": "julia-1.11"
  },
  "language_info": {
   "file_extension": ".jl",
   "mimetype": "application/julia",
   "name": "julia",
   "version": "1.11.5"
  }
 },
 "nbformat": 4,
 "nbformat_minor": 5
}
