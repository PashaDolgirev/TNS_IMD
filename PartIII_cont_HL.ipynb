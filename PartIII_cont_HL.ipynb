{
 "cells": [
  {
   "cell_type": "code",
   "execution_count": 42,
   "id": "c3e2ff58",
   "metadata": {},
   "outputs": [],
   "source": [
    "using ITensors, ITensorMPS, Optim, LinearAlgebra, Printf, Random, Plots, DelimitedFiles\n",
    "include(\"src/basic_CPHL_utils.jl\")\n",
    "\n",
    "\n",
    "N_g = 30;\n",
    "g_vals = collect(range(-1, 1; length = N_g + 2)[2:end-1]);"
   ]
  },
  {
   "cell_type": "code",
   "execution_count": null,
   "id": "544a4c6e",
   "metadata": {},
   "outputs": [
    {
     "name": "stdout",
     "output_type": "stream",
     "text": [
      "norm(ALPHAMat - EstimateHarmFromCMat(CMat, HarmFromVecMat)) = 6.966282800046645e-14\n"
     ]
    },
    {
     "data": {
      "text/plain": [
       "4.0141141393567177e-16"
      ]
     },
     "metadata": {},
     "output_type": "display_data"
    }
   ],
   "source": [
    "M_max = 5 \n",
    "DesignMat, HarmFromVecMat = ConstructDesignMatrix(g_vals, M_max)\n",
    "\n",
    "CMat = zeros(Float64, length(g_vals), 2)\n",
    "\n",
    "CMat[:, 1] = sin.(pi * 1 .* (g_vals .+ 1) / 2) + 0.1 * sin.(pi * 2 .* (g_vals .+ 1) / 2) - 0.3 * sin.(pi * 3 .* (g_vals .+ 1) / 2) - 0.13 * sin.(pi * 5 .* (g_vals .+ 1) / 2)\n",
    "CMat[:, 2] = -0.2 * sin.(pi * 1 .* (g_vals .+ 1) / 2)\n",
    "\n",
    "\n",
    "ALPHAMat =  zeros(M_max, 2);\n",
    "ALPHAMat[:, 1] = [1; 0.1; -0.3; 0.0; -0.13]\n",
    "ALPHAMat[:, 2] = [-0.2; 0; 0; 0; 0]\n",
    "\n",
    "@show norm(ALPHAMat - EstimateHarmFromCMat(CMat, HarmFromVecMat))\n",
    "\n",
    "norm(GenerateCMatFromALPHAMat(ALPHAMat, DesignMat) - CMat)"
   ]
  },
  {
   "cell_type": "code",
   "execution_count": 44,
   "id": "c73ed1bf",
   "metadata": {},
   "outputs": [
    {
     "data": {
      "text/plain": [
       "Vector{Float64}\u001b[90m (alias for \u001b[39m\u001b[90mArray{Float64, 1}\u001b[39m\u001b[90m)\u001b[39m"
      ]
     },
     "metadata": {},
     "output_type": "display_data"
    }
   ],
   "source": [
    "typeof(g_vals)"
   ]
  },
  {
   "cell_type": "code",
   "execution_count": 45,
   "id": "a61ca1d0",
   "metadata": {},
   "outputs": [
    {
     "name": "stderr",
     "output_type": "stream",
     "text": [
      "WARNING: replacing module CPHL.\n"
     ]
    },
    {
     "data": {
      "text/plain": [
       "Main.CPHL.CPHLSolver(10, Index{Int64}[(dim=2|id=499|\"S=1/2,Site,n=1\"), (dim=2|id=312|\"S=1/2,Site,n=2\"), (dim=2|id=679|\"S=1/2,Site,n=3\"), (dim=2|id=294|\"S=1/2,Site,n=4\"), (dim=2|id=723|\"S=1/2,Site,n=5\"), (dim=2|id=634|\"S=1/2,Site,n=6\"), (dim=2|id=230|\"S=1/2,Site,n=7\"), (dim=2|id=459|\"S=1/2,Site,n=8\"), (dim=2|id=771|\"S=1/2,Site,n=9\"), (dim=2|id=324|\"S=1/2,Site,n=10\")], [-0.9354838709677419, -0.8709677419354839, -0.8064516129032258, -0.7419354838709677, -0.6774193548387096, -0.6129032258064516, -0.5483870967741935, -0.4838709677419355, -0.41935483870967744, -0.3548387096774194  …  0.3548387096774194, 0.41935483870967744, 0.4838709677419355, 0.5483870967741935, 0.6129032258064516, 0.6774193548387096, 0.7419354838709677, 0.8064516129032258, 0.8709677419354839, 0.9354838709677419], 30, 3, [0.10116832198743225 0.20129852008866023 0.29936312297335815; 0.20129852008866006 0.39435585511331855 0.5712682150947923; … ; 0.20129852008866017 -0.3943558551133187 0.5712682150947918; 0.10116832198743228 -0.20129852008866028 0.29936312297335865], [0.006526988515317788 0.012987001296041745 … 0.012987001296041752 0.006526988515317789; 0.012987001296041755 0.02544231323311568 … -0.025442313233115684 -0.012987001296041755; 0.019313749869247665 0.036856013877081 … 0.036856013877080956 0.0193137498692477], MPO[MPO\n",
       "[1] ((dim=3|id=163|\"Link,l=1\"), (dim=2|id=499|\"S=1/2,Site,n=1\")', (dim=2|id=499|\"S=1/2,Site,n=1\"))\n",
       "[2] ((dim=3|id=163|\"Link,l=1\"), (dim=3|id=609|\"Link,l=2\"), (dim=2|id=312|\"S=1/2,Site,n=2\")', (dim=2|id=312|\"S=1/2,Site,n=2\"))\n",
       "[3] ((dim=3|id=609|\"Link,l=2\"), (dim=3|id=236|\"Link,l=3\"), (dim=2|id=679|\"S=1/2,Site,n=3\")', (dim=2|id=679|\"S=1/2,Site,n=3\"))\n",
       "[4] ((dim=3|id=236|\"Link,l=3\"), (dim=3|id=497|\"Link,l=4\"), (dim=2|id=294|\"S=1/2,Site,n=4\")', (dim=2|id=294|\"S=1/2,Site,n=4\"))\n",
       "[5] ((dim=3|id=497|\"Link,l=4\"), (dim=3|id=571|\"Link,l=5\"), (dim=2|id=723|\"S=1/2,Site,n=5\")', (dim=2|id=723|\"S=1/2,Site,n=5\"))\n",
       "[6] ((dim=3|id=571|\"Link,l=5\"), (dim=3|id=415|\"Link,l=6\"), (dim=2|id=634|\"S=1/2,Site,n=6\")', (dim=2|id=634|\"S=1/2,Site,n=6\"))\n",
       "[7] ((dim=3|id=415|\"Link,l=6\"), (dim=3|id=22|\"Link,l=7\"), (dim=2|id=230|\"S=1/2,Site,n=7\")', (dim=2|id=230|\"S=1/2,Site,n=7\"))\n",
       "[8] ((dim=3|id=22|\"Link,l=7\"), (dim=3|id=929|\"Link,l=8\"), (dim=2|id=459|\"S=1/2,Site,n=8\")', (dim=2|id=459|\"S=1/2,Site,n=8\"))\n",
       "[9] ((dim=3|id=929|\"Link,l=8\"), (dim=3|id=276|\"Link,l=9\"), (dim=2|id=771|\"S=1/2,Site,n=9\")', (dim=2|id=771|\"S=1/2,Site,n=9\"))\n",
       "[10] ((dim=3|id=276|\"Link,l=9\"), (dim=2|id=324|\"S=1/2,Site,n=10\")', (dim=2|id=324|\"S=1/2,Site,n=10\"))\n",
       ", MPO\n",
       "[1] ((dim=3|id=38|\"Link,l=1\"), (dim=2|id=499|\"S=1/2,Site,n=1\")', (dim=2|id=499|\"S=1/2,Site,n=1\"))\n",
       "[2] ((dim=3|id=38|\"Link,l=1\"), (dim=3|id=618|\"Link,l=2\"), (dim=2|id=312|\"S=1/2,Site,n=2\")', (dim=2|id=312|\"S=1/2,Site,n=2\"))\n",
       "[3] ((dim=3|id=618|\"Link,l=2\"), (dim=3|id=395|\"Link,l=3\"), (dim=2|id=679|\"S=1/2,Site,n=3\")', (dim=2|id=679|\"S=1/2,Site,n=3\"))\n",
       "[4] ((dim=3|id=395|\"Link,l=3\"), (dim=3|id=181|\"Link,l=4\"), (dim=2|id=294|\"S=1/2,Site,n=4\")', (dim=2|id=294|\"S=1/2,Site,n=4\"))\n",
       "[5] ((dim=3|id=181|\"Link,l=4\"), (dim=3|id=38|\"Link,l=5\"), (dim=2|id=723|\"S=1/2,Site,n=5\")', (dim=2|id=723|\"S=1/2,Site,n=5\"))\n",
       "[6] ((dim=3|id=38|\"Link,l=5\"), (dim=3|id=349|\"Link,l=6\"), (dim=2|id=634|\"S=1/2,Site,n=6\")', (dim=2|id=634|\"S=1/2,Site,n=6\"))\n",
       "[7] ((dim=3|id=349|\"Link,l=6\"), (dim=3|id=660|\"Link,l=7\"), (dim=2|id=230|\"S=1/2,Site,n=7\")', (dim=2|id=230|\"S=1/2,Site,n=7\"))\n",
       "[8] ((dim=3|id=660|\"Link,l=7\"), (dim=3|id=83|\"Link,l=8\"), (dim=2|id=459|\"S=1/2,Site,n=8\")', (dim=2|id=459|\"S=1/2,Site,n=8\"))\n",
       "[9] ((dim=3|id=83|\"Link,l=8\"), (dim=3|id=945|\"Link,l=9\"), (dim=2|id=771|\"S=1/2,Site,n=9\")', (dim=2|id=771|\"S=1/2,Site,n=9\"))\n",
       "[10] ((dim=3|id=945|\"Link,l=9\"), (dim=2|id=324|\"S=1/2,Site,n=10\")', (dim=2|id=324|\"S=1/2,Site,n=10\"))\n",
       ", MPO\n",
       "[1] ((dim=3|id=895|\"Link,l=1\"), (dim=2|id=499|\"S=1/2,Site,n=1\")', (dim=2|id=499|\"S=1/2,Site,n=1\"))\n",
       "[2] ((dim=3|id=895|\"Link,l=1\"), (dim=4|id=34|\"Link,l=2\"), (dim=2|id=312|\"S=1/2,Site,n=2\")', (dim=2|id=312|\"S=1/2,Site,n=2\"))\n",
       "[3] ((dim=4|id=34|\"Link,l=2\"), (dim=4|id=919|\"Link,l=3\"), (dim=2|id=679|\"S=1/2,Site,n=3\")', (dim=2|id=679|\"S=1/2,Site,n=3\"))\n",
       "[4] ((dim=4|id=919|\"Link,l=3\"), (dim=4|id=536|\"Link,l=4\"), (dim=2|id=294|\"S=1/2,Site,n=4\")', (dim=2|id=294|\"S=1/2,Site,n=4\"))\n",
       "[5] ((dim=4|id=536|\"Link,l=4\"), (dim=4|id=678|\"Link,l=5\"), (dim=2|id=723|\"S=1/2,Site,n=5\")', (dim=2|id=723|\"S=1/2,Site,n=5\"))\n",
       "[6] ((dim=4|id=678|\"Link,l=5\"), (dim=4|id=853|\"Link,l=6\"), (dim=2|id=634|\"S=1/2,Site,n=6\")', (dim=2|id=634|\"S=1/2,Site,n=6\"))\n",
       "[7] ((dim=4|id=853|\"Link,l=6\"), (dim=4|id=611|\"Link,l=7\"), (dim=2|id=230|\"S=1/2,Site,n=7\")', (dim=2|id=230|\"S=1/2,Site,n=7\"))\n",
       "[8] ((dim=4|id=611|\"Link,l=7\"), (dim=4|id=975|\"Link,l=8\"), (dim=2|id=459|\"S=1/2,Site,n=8\")', (dim=2|id=459|\"S=1/2,Site,n=8\"))\n",
       "[9] ((dim=4|id=975|\"Link,l=8\"), (dim=3|id=722|\"Link,l=9\"), (dim=2|id=771|\"S=1/2,Site,n=9\")', (dim=2|id=771|\"S=1/2,Site,n=9\"))\n",
       "[10] ((dim=3|id=722|\"Link,l=9\"), (dim=2|id=324|\"S=1/2,Site,n=10\")', (dim=2|id=324|\"S=1/2,Site,n=10\"))\n",
       ", MPO\n",
       "[1] ((dim=3|id=761|\"Link,l=1\"), (dim=2|id=499|\"S=1/2,Site,n=1\")', (dim=2|id=499|\"S=1/2,Site,n=1\"))\n",
       "[2] ((dim=3|id=761|\"Link,l=1\"), (dim=4|id=592|\"Link,l=2\"), (dim=2|id=312|\"S=1/2,Site,n=2\")', (dim=2|id=312|\"S=1/2,Site,n=2\"))\n",
       "[3] ((dim=4|id=592|\"Link,l=2\"), (dim=4|id=217|\"Link,l=3\"), (dim=2|id=679|\"S=1/2,Site,n=3\")', (dim=2|id=679|\"S=1/2,Site,n=3\"))\n",
       "[4] ((dim=4|id=217|\"Link,l=3\"), (dim=4|id=326|\"Link,l=4\"), (dim=2|id=294|\"S=1/2,Site,n=4\")', (dim=2|id=294|\"S=1/2,Site,n=4\"))\n",
       "[5] ((dim=4|id=326|\"Link,l=4\"), (dim=4|id=912|\"Link,l=5\"), (dim=2|id=723|\"S=1/2,Site,n=5\")', (dim=2|id=723|\"S=1/2,Site,n=5\"))\n",
       "[6] ((dim=4|id=912|\"Link,l=5\"), (dim=4|id=157|\"Link,l=6\"), (dim=2|id=634|\"S=1/2,Site,n=6\")', (dim=2|id=634|\"S=1/2,Site,n=6\"))\n",
       "[7] ((dim=4|id=157|\"Link,l=6\"), (dim=4|id=538|\"Link,l=7\"), (dim=2|id=230|\"S=1/2,Site,n=7\")', (dim=2|id=230|\"S=1/2,Site,n=7\"))\n",
       "[8] ((dim=4|id=538|\"Link,l=7\"), (dim=4|id=632|\"Link,l=8\"), (dim=2|id=459|\"S=1/2,Site,n=8\")', (dim=2|id=459|\"S=1/2,Site,n=8\"))\n",
       "[9] ((dim=4|id=632|\"Link,l=8\"), (dim=3|id=894|\"Link,l=9\"), (dim=2|id=771|\"S=1/2,Site,n=9\")', (dim=2|id=771|\"S=1/2,Site,n=9\"))\n",
       "[10] ((dim=3|id=894|\"Link,l=9\"), (dim=2|id=324|\"S=1/2,Site,n=10\")', (dim=2|id=324|\"S=1/2,Site,n=10\"))\n",
       ", MPO\n",
       "[1] ((dim=3|id=412|\"Link,l=1\"), (dim=2|id=499|\"S=1/2,Site,n=1\")', (dim=2|id=499|\"S=1/2,Site,n=1\"))\n",
       "[2] ((dim=3|id=412|\"Link,l=1\"), (dim=4|id=633|\"Link,l=2\"), (dim=2|id=312|\"S=1/2,Site,n=2\")', (dim=2|id=312|\"S=1/2,Site,n=2\"))\n",
       "[3] ((dim=4|id=633|\"Link,l=2\"), (dim=4|id=948|\"Link,l=3\"), (dim=2|id=679|\"S=1/2,Site,n=3\")', (dim=2|id=679|\"S=1/2,Site,n=3\"))\n",
       "[4] ((dim=4|id=948|\"Link,l=3\"), (dim=4|id=852|\"Link,l=4\"), (dim=2|id=294|\"S=1/2,Site,n=4\")', (dim=2|id=294|\"S=1/2,Site,n=4\"))\n",
       "[5] ((dim=4|id=852|\"Link,l=4\"), (dim=4|id=959|\"Link,l=5\"), (dim=2|id=723|\"S=1/2,Site,n=5\")', (dim=2|id=723|\"S=1/2,Site,n=5\"))\n",
       "[6] ((dim=4|id=959|\"Link,l=5\"), (dim=4|id=595|\"Link,l=6\"), (dim=2|id=634|\"S=1/2,Site,n=6\")', (dim=2|id=634|\"S=1/2,Site,n=6\"))\n",
       "[7] ((dim=4|id=595|\"Link,l=6\"), (dim=4|id=774|\"Link,l=7\"), (dim=2|id=230|\"S=1/2,Site,n=7\")', (dim=2|id=230|\"S=1/2,Site,n=7\"))\n",
       "[8] ((dim=4|id=774|\"Link,l=7\"), (dim=4|id=720|\"Link,l=8\"), (dim=2|id=459|\"S=1/2,Site,n=8\")', (dim=2|id=459|\"S=1/2,Site,n=8\"))\n",
       "[9] ((dim=4|id=720|\"Link,l=8\"), (dim=3|id=467|\"Link,l=9\"), (dim=2|id=771|\"S=1/2,Site,n=9\")', (dim=2|id=771|\"S=1/2,Site,n=9\"))\n",
       "[10] ((dim=3|id=467|\"Link,l=9\"), (dim=2|id=324|\"S=1/2,Site,n=10\")', (dim=2|id=324|\"S=1/2,Site,n=10\"))\n",
       "], 5, [0.0 0.0 … 0.0 0.0; 0.0 0.0 … 0.0 0.0; 0.0 0.0 … 0.0 0.0], [0.0 0.0 … 0.0 0.0; 0.0 0.0 … 0.0 0.0; … ; 0.0 0.0 … 0.0 0.0; 0.0 0.0 … 0.0 0.0])"
      ]
     },
     "metadata": {},
     "output_type": "display_data"
    }
   ],
   "source": [
    "include(\"src/CPHL_module.jl\")\n",
    "\n",
    "cphl = CPHL.CPHLSolver(10, g_vals)"
   ]
  },
  {
   "cell_type": "code",
   "execution_count": 46,
   "id": "89142de4",
   "metadata": {},
   "outputs": [],
   "source": []
  }
 ],
 "metadata": {
  "kernelspec": {
   "display_name": "Julia 1.11.5",
   "language": "julia",
   "name": "julia-1.11"
  },
  "language_info": {
   "file_extension": ".jl",
   "mimetype": "application/julia",
   "name": "julia",
   "version": "1.11.5"
  }
 },
 "nbformat": 4,
 "nbformat_minor": 5
}
