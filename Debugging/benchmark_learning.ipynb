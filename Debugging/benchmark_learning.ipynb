{
 "cells": [
  {
   "cell_type": "code",
   "execution_count": 1,
   "id": "8caabeca",
   "metadata": {},
   "outputs": [
    {
     "data": {
      "text/plain": [
       "Main.HL1D"
      ]
     },
     "metadata": {},
     "output_type": "display_data"
    }
   ],
   "source": [
    "using ITensors, ITensorMPS, Optim, LinearAlgebra, Printf, Random, Plots, DelimitedFiles\n",
    "Random.seed!(123)\n",
    "include(\"src/QuantumResource1D.jl\")\n",
    "include(\"src/HL_module.jl\")\n"
   ]
  },
  {
   "cell_type": "code",
   "execution_count": 4,
   "id": "57dbd927",
   "metadata": {},
   "outputs": [
    {
     "name": "stdout",
     "output_type": "stream",
     "text": [
      "Fidelity wrt to GHZ = 1.0\n",
      "Fidelity wrt to cluster state = 1.0\n",
      "Degeneracy = 2\n",
      "After sweep 1 energy=-3.9999999623806066  maxlinkdim=2 maxerr=0.00E+00 time=0.001\n",
      "After sweep 2 energy=-3.9999999623806066  maxlinkdim=2 maxerr=0.00E+00 time=0.001\n",
      "After sweep 3 energy=-3.9999999623806066  maxlinkdim=2 maxerr=0.00E+00 time=0.001\n",
      "After sweep 4 energy=-3.9999999623806066  maxlinkdim=2 maxerr=0.00E+00 time=0.001\n",
      "After sweep 5 energy=-3.9999999623806066  maxlinkdim=2 maxerr=0.00E+00 time=0.001\n",
      "After sweep 6 energy=-3.9999999623806066  maxlinkdim=2 maxerr=0.00E+00 time=0.001\n",
      "After sweep 7 energy=-3.9999999623806066  maxlinkdim=2 maxerr=0.00E+00 time=0.001\n",
      "After sweep 8 energy=-3.9999999623806066  maxlinkdim=2 maxerr=0.00E+00 time=0.001\n",
      "Fidelity = 1.0\n",
      "GS energy = -3.9999999623806066\n",
      "Degeneracy = 1\n",
      "After sweep 1 energy=-4.999999999999997  maxlinkdim=2 maxerr=5.55E-16 time=0.001\n",
      "After sweep 2 energy=-4.999999999999999  maxlinkdim=2 maxerr=5.55E-16 time=0.001\n",
      "After sweep 3 energy=-4.999999999999999  maxlinkdim=2 maxerr=5.55E-16 time=0.001\n",
      "After sweep 4 energy=-5.000000000000002  maxlinkdim=2 maxerr=3.63E-16 time=0.001\n",
      "After sweep 5 energy=-4.999999999999998  maxlinkdim=2 maxerr=5.55E-16 time=0.001\n",
      "After sweep 6 energy=-5.0  maxlinkdim=2 maxerr=6.66E-16 time=0.001\n",
      "After sweep 7 energy=-5.000000000000002  maxlinkdim=2 maxerr=4.44E-16 time=0.001\n",
      "After sweep 8 energy=-5.0  maxlinkdim=2 maxerr=3.69E-16 time=0.001\n",
      "Fidelity = 0.9999999999999998\n",
      "GS energy = -5.0\n",
      "v_min_GHZ = [3.659530108204796e-17, 9.69785969535055e-5, 9.697859695344019e-5, -0.9999999905951517, -2.2111132343418345e-16, -6.474230567984138e-16, -6.790077393116474e-18, 3.412943235391143e-17, -7.166645398685566e-17, -1.1851718132955915e-16, 5.713384367180531e-17]\n",
      "v_min_cluster = [3.254266276578177e-16, 7.109420590115164e-16, 3.192091198961185e-16, -6.574439591956374e-16, 3.8888700202039267e-17, -1.9080647148903985e-16, -1.7527492216822389e-15, 9.300941990085e-16, -1.0, -1.0345704584852053e-15, 1.199059164059779e-15]\n"
     ]
    },
    {
     "data": {
      "text/plain": [
       "11-element Vector{Float64}:\n",
       "  3.254266276578177e-16\n",
       "  7.109420590115164e-16\n",
       "  3.192091198961185e-16\n",
       " -6.574439591956374e-16\n",
       "  3.8888700202039267e-17\n",
       " -1.9080647148903985e-16\n",
       " -1.7527492216822389e-15\n",
       "  9.300941990085e-16\n",
       " -1.0\n",
       " -1.0345704584852053e-15\n",
       "  1.199059164059779e-15"
      ]
     },
     "metadata": {},
     "output_type": "display_data"
    }
   ],
   "source": [
    "N = 5\n",
    "\n",
    "qr = QR1D.QuantumResource1D(N)\n",
    "GHZ_wf, params_GHZ, name_GHZ = QR1D.generate_GHZ_state(qr)\n",
    "cluster_wf, params_cluster, name_cluster = QR1D.generate_cluster_state(qr)\n",
    "\n",
    "hl_GHZ = HL1D.HamiltonianLearner(GHZ_wf)\n",
    "λ_min_GHZ, v_min_GHZ = HL1D.LearnHamiltonian_corr_mat(hl_GHZ)\n",
    "\n",
    "hl_cluster = HL1D.HamiltonianLearner(cluster_wf)\n",
    "λ_min_cluster, v_min_cluster = HL1D.LearnHamiltonian_corr_mat(hl_cluster)\n",
    "\n",
    "@show v_min_GHZ\n",
    "@show v_min_cluster"
   ]
  }
 ],
 "metadata": {
  "kernelspec": {
   "display_name": "Julia 1.11.5",
   "language": "julia",
   "name": "julia-1.11"
  },
  "language_info": {
   "file_extension": ".jl",
   "mimetype": "application/julia",
   "name": "julia",
   "version": "1.11.5"
  }
 },
 "nbformat": 4,
 "nbformat_minor": 5
}
