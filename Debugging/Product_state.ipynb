{
 "cells": [
  {
   "cell_type": "code",
   "execution_count": null,
   "id": "1eecb626",
   "metadata": {},
   "outputs": [],
   "source": [
    "import numpy as np\n",
    "import numba as nb\n",
    "import matplotlib.pyplot as plt\n",
    "from numba import jit\n",
    "from numba import njit\n",
    "from numba import prange\n",
    "import scipy.special as sp\n",
    "import scipy.integrate as spi\n",
    "from scipy.optimize import brentq, fsolve\n",
    "from scipy.integrate import quad\n",
    "import time\n",
    "import os\n",
    "\n",
    "import tensorflow as tf\n",
    "import tensornetwork as tn\n",
    "\n",
    "# Set TensorNetwork to use the TensorFlow backend (needed for autodiff)\n",
    "tn.set_default_backend(\"tensorflow\")\n",
    "from tensornetwork import FiniteMPS"
   ]
  },
  {
   "cell_type": "code",
   "execution_count": 22,
   "id": "56796ee5",
   "metadata": {},
   "outputs": [
    {
     "name": "stdout",
     "output_type": "stream",
     "text": [
      "Applied Hadamard on site 1; MPS bonds = [TensorShape([1, 2, 1]), TensorShape([1, 2, 1]), TensorShape([1, 2, 1]), TensorShape([1, 2, 1]), TensorShape([1, 2, 1])]\n",
      "<X> = 0.000000,  <Y> = 0.000000,  <Z> = 1.000000\n"
     ]
    }
   ],
   "source": [
    "N = 5 #number of qubits\n",
    "\n",
    "# each site tensor has shape (chi_left=1, d=2, chi_right=1)\n",
    "# Initialise all the qubits in |0>, i.e., A[0]=1, A[1]=0\n",
    "prod_tensors = []\n",
    "for _ in range(N):\n",
    "    # shape (2,) → reshape into (1,2,1)\n",
    "    v = tf.constant([1.0, 0.0], dtype=tf.complex64)\n",
    "    prod_tensors.append(tf.reshape(v, (1,2,1)))\n",
    "\n",
    "# initialize FiniteMPS (in canonical form)\n",
    "psi = FiniteMPS(prod_tensors, canonicalize=True)\n",
    "\n",
    "# Hadamard\n",
    "H_gate = tf.constant([[1.0,  1.0],\n",
    "                 [1.0, -1.0]], dtype=tf.complex64) / tf.cast(tf.sqrt(2.0), tf.complex64)\n",
    "\n",
    "# apply it on the first site by contracting over the physical index:\n",
    "# new A[0]_{α,s',β} = Σ_s H[s',s] · A[0]_{α,s,β}\n",
    "A0 = psi.tensors[0] # shape (1,2,1)\n",
    "A0 = tf.tensordot(H_gate, A0, axes=([1],[1]))  # → (2,1,1)\n",
    "psi.tensors[0] = tf.transpose(A0, (1,0,2))  \n",
    "\n",
    "print(\"Applied Hadamard on site 1; MPS bonds =\", \n",
    "      [t.shape for t in psi.tensors])\n",
    "\n",
    "\n",
    "#Test single-site obsrvables\n",
    "qubit_indx = 1 #choice of the qubit\n",
    "psi.position(qubit_indx)\n",
    "A = psi.tensors[qubit_indx]\n",
    "rho = tf.tensordot(tf.math.conj(A), A, axes=([0,2],[0,2]))\n",
    "\n",
    "X = tf.constant([[0.,1.],[1.,0.]], tf.complex64)\n",
    "Y = tf.constant([\n",
    "        [0 + 0j, -1 + 0j],\n",
    "        [1 + 0j,  0 + 0j]\n",
    "    ], dtype=tf.complex64)\n",
    "Z = tf.constant([[1.,0.],[0.,-1.]], tf.complex64)\n",
    "\n",
    "avg_X = tf.linalg.trace(tf.matmul(rho, X))\n",
    "avg_Y = tf.linalg.trace(tf.matmul(rho, Y))\n",
    "avg_Z = tf.linalg.trace(tf.matmul(rho, Z))\n",
    "\n",
    "x = tf.math.real(avg_X).numpy()    # gives a NumPy float\n",
    "y = tf.math.real(avg_Y).numpy()\n",
    "z = tf.math.real(avg_Z).numpy()\n",
    "print(f\"<X> = {x:.6f},  <Y> = {y:.6f},  <Z> = {z:.6f}\")\n"
   ]
  },
  {
   "cell_type": "code",
   "execution_count": null,
   "id": "3b29e573",
   "metadata": {},
   "outputs": [],
   "source": []
  }
 ],
 "metadata": {
  "kernelspec": {
   "display_name": "base",
   "language": "python",
   "name": "python3"
  },
  "language_info": {
   "codemirror_mode": {
    "name": "ipython",
    "version": 3
   },
   "file_extension": ".py",
   "mimetype": "text/x-python",
   "name": "python",
   "nbconvert_exporter": "python",
   "pygments_lexer": "ipython3",
   "version": "3.11.5"
  }
 },
 "nbformat": 4,
 "nbformat_minor": 5
}
