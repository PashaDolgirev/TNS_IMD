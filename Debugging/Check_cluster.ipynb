{
 "cells": [
  {
   "cell_type": "code",
   "execution_count": 7,
   "id": "8d1a45af",
   "metadata": {},
   "outputs": [
    {
     "name": "stderr",
     "output_type": "stream",
     "text": [
      "WARNING: replacing module QR1D.\n",
      "WARNING: replacing module HL1D.\n"
     ]
    },
    {
     "data": {
      "text/plain": [
       "generate_ZZ_term_mpo (generic function with 1 method)"
      ]
     },
     "execution_count": 7,
     "metadata": {},
     "output_type": "execute_result"
    }
   ],
   "source": [
    "using ITensors, ITensorMPS, Optim, LinearAlgebra, Printf, Random, Plots, DelimitedFiles\n",
    "Random.seed!(123)\n",
    "include(\"src/QuantumResource1D.jl\")\n",
    "include(\"src/HL_module.jl\")\n",
    "include(\"src/basic_MPS_utils.jl\")"
   ]
  },
  {
   "cell_type": "code",
   "execution_count": 8,
   "id": "0141b3dd",
   "metadata": {},
   "outputs": [
    {
     "name": "stdout",
     "output_type": "stream",
     "text": [
      "Fidelity wrt to GHZ = 1.0\n",
      "Fidelity wrt to cluster state = 1.0\n"
     ]
    },
    {
     "data": {
      "text/plain": [
       "MPO\n",
       "[1] ((dim=3|id=791|\"Link,l=1\"), (dim=2|id=224|\"S=1/2,Site,n=1\")', (dim=2|id=224|\"S=1/2,Site,n=1\"))\n",
       "[2] ((dim=3|id=791|\"Link,l=1\"), (dim=4|id=346|\"Link,l=2\"), (dim=2|id=69|\"S=1/2,Site,n=2\")', (dim=2|id=69|\"S=1/2,Site,n=2\"))\n",
       "[3] ((dim=4|id=346|\"Link,l=2\"), (dim=4|id=25|\"Link,l=3\"), (dim=2|id=352|\"S=1/2,Site,n=3\")', (dim=2|id=352|\"S=1/2,Site,n=3\"))\n",
       "[4] ((dim=4|id=25|\"Link,l=3\"), (dim=4|id=917|\"Link,l=4\"), (dim=2|id=325|\"S=1/2,Site,n=4\")', (dim=2|id=325|\"S=1/2,Site,n=4\"))\n",
       "[5] ((dim=4|id=917|\"Link,l=4\"), (dim=3|id=995|\"Link,l=5\"), (dim=2|id=127|\"S=1/2,Site,n=5\")', (dim=2|id=127|\"S=1/2,Site,n=5\"))\n",
       "[6] ((dim=3|id=995|\"Link,l=5\"), (dim=2|id=46|\"S=1/2,Site,n=6\")', (dim=2|id=46|\"S=1/2,Site,n=6\"))\n"
      ]
     },
     "execution_count": 8,
     "metadata": {},
     "output_type": "execute_result"
    }
   ],
   "source": [
    "N = 6\n",
    "sites = siteinds(\"S=1/2\", N)\n",
    "X_string_mpo = generate_X_string_mpo(sites)\n",
    "O_string_mpo = generate_O_string_mpo(sites)\n",
    "ZZ_term_mpo = generate_ZZ_term_mpo(sites)\n",
    "qr = QR1D.QuantumResource1D(N, sites, X_string_mpo, O_string_mpo, ZZ_term_mpo)\n",
    "GHZ_wf, params_GHZ, name_GHZ = QR1D.generate_GHZ_state(qr)\n",
    "cluster_wf, params_cluster, name_cluster = QR1D.generate_cluster_state(qr)\n",
    "\n",
    "H = AutoMPO()\n",
    "for j in 1:(N - 2)\n",
    "    H .+= 8.0 , \"Sx\", j, \"Sx\", j + 1, \"Sx\", j + 2\n",
    "end\n",
    "H = MPO(H, sites)"
   ]
  },
  {
   "cell_type": "code",
   "execution_count": 9,
   "id": "a0f97cac",
   "metadata": {},
   "outputs": [
    {
     "name": "stdout",
     "output_type": "stream",
     "text": [
      "inner(cluster_wf', H, cluster_wf) = 1.0366005249178068e-32\n",
      "inner(GHZ_wf', H, GHZ_wf) = 0.0\n"
     ]
    },
    {
     "data": {
      "text/plain": [
       "0.0"
      ]
     },
     "execution_count": 9,
     "metadata": {},
     "output_type": "execute_result"
    }
   ],
   "source": [
    "@show inner(cluster_wf', H, cluster_wf)\n",
    "@show inner(GHZ_wf', H, GHZ_wf)"
   ]
  },
  {
   "cell_type": "code",
   "execution_count": null,
   "id": "9d0203f4",
   "metadata": {},
   "outputs": [],
   "source": []
  }
 ],
 "metadata": {
  "kernelspec": {
   "display_name": "Julia 1.11.5",
   "language": "julia",
   "name": "julia-1.11"
  },
  "language_info": {
   "file_extension": ".jl",
   "mimetype": "application/julia",
   "name": "julia",
   "version": "1.11.5"
  }
 },
 "nbformat": 4,
 "nbformat_minor": 5
}
