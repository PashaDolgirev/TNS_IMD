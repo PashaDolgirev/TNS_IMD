{
 "cells": [
  {
   "cell_type": "code",
   "execution_count": 4,
   "id": "4912b6a3",
   "metadata": {},
   "outputs": [
    {
     "name": "stdout",
     "output_type": "stream",
     "text": [
      "=== Absolute Minimum Example ===\n",
      "<0|Z|0> = 1.0\n",
      "\n",
      "=== Two-Qubit System ===\n",
      "<00|Z⊗Z|00> = 1.0\n"
     ]
    }
   ],
   "source": [
    "# !pip install torch\n",
    "\n",
    "import numpy as np\n",
    "import torch\n",
    "from torch.optim import Adam\n",
    "import matplotlib.pyplot as plt\n",
    "\n",
    "\n",
    "def absolute_minimum_example():\n",
    "    \"\"\"\n",
    "    Absolute minimum example of tensor operations for quantum states\n",
    "    \"\"\"\n",
    "    print(\"=== Absolute Minimum Example ===\")\n",
    "    \n",
    "    # Create a simple tensor for |0⟩: [2]\n",
    "    ket_0 = torch.zeros(2, dtype=torch.complex128)\n",
    "    ket_0[0] = 1.0\n",
    "    \n",
    "    # Z operator: [2, 2]\n",
    "    Z = torch.tensor([[1.0, 0.0], [0.0, -1.0]], dtype=torch.complex128)\n",
    "    \n",
    "    # Compute expectation value <0|Z|0>\n",
    "    # First apply Z to |0⟩\n",
    "    Z_0 = torch.matmul(Z, ket_0)\n",
    "    \n",
    "    # Then compute <0|Z|0>\n",
    "    expval = torch.dot(torch.conj(ket_0), Z_0)\n",
    "    \n",
    "    print(f\"<0|Z|0> = {expval.real}\")\n",
    "    \n",
    "    print(\"\\n=== Two-Qubit System ===\")\n",
    "    \n",
    "    # Create |00⟩ state directly: [4]\n",
    "    ket_00 = torch.zeros(4, dtype=torch.complex128)\n",
    "    ket_00[0] = 1.0\n",
    "    \n",
    "    # Z⊗Z operator: [4, 4]\n",
    "    ZZ = torch.kron(Z, Z)\n",
    "    \n",
    "    # Compute <00|Z⊗Z|00>\n",
    "    ZZ_00 = torch.matmul(ZZ, ket_00)\n",
    "    expval_ZZ = torch.dot(torch.conj(ket_00), ZZ_00)\n",
    "    \n",
    "    print(f\"<00|Z⊗Z|00> = {expval_ZZ.real}\")\n",
    "    \n",
    "    return expval, expval_ZZ\n",
    "\n",
    "if __name__ == \"__main__\":\n",
    "    absolute_minimum_example()\n",
    "    "
   ]
  },
  {
   "cell_type": "code",
   "execution_count": null,
   "id": "a3cf0408",
   "metadata": {},
   "outputs": [],
   "source": []
  }
 ],
 "metadata": {
  "kernelspec": {
   "display_name": "base",
   "language": "python",
   "name": "python3"
  },
  "language_info": {
   "codemirror_mode": {
    "name": "ipython",
    "version": 3
   },
   "file_extension": ".py",
   "mimetype": "text/x-python",
   "name": "python",
   "nbconvert_exporter": "python",
   "pygments_lexer": "ipython3",
   "version": "3.11.5"
  }
 },
 "nbformat": 4,
 "nbformat_minor": 5
}
