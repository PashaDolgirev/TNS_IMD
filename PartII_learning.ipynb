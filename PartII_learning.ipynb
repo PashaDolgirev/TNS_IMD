{
 "cells": [
  {
   "cell_type": "code",
   "execution_count": 15,
   "id": "8caabeca",
   "metadata": {},
   "outputs": [
    {
     "name": "stderr",
     "output_type": "stream",
     "text": [
      "WARNING: replacing module QR1D.\n",
      "WARNING: replacing module HL1D.\n"
     ]
    }
   ],
   "source": [
    "using ITensors, ITensorMPS, Optim, LinearAlgebra, Printf, Random, Plots, DelimitedFiles\n",
    "Random.seed!(123)\n",
    "include(\"src/QuantumResource1D.jl\")\n",
    "include(\"src/HL_module.jl\")\n",
    "\n",
    "all_params_mat = readdlm(\"DATA/all_params_mat.txt\") \n",
    "g_vals = vec(readdlm(\"DATA/g_values.txt\"));"
   ]
  },
  {
   "cell_type": "code",
   "execution_count": 16,
   "id": "57dbd927",
   "metadata": {},
   "outputs": [
    {
     "name": "stdout",
     "output_type": "stream",
     "text": [
      "Current value: g = -1.0\n",
      "Degeneracy = 10\n",
      "After sweep 1 energy=-3.316624790351738  maxlinkdim=2 maxerr=2.88E-16 time=0.005\n",
      "After sweep 2 energy=-3.316624790351736  maxlinkdim=2 maxerr=3.55E-16 time=0.001\n",
      "After sweep 3 energy=-3.3166247903517387  maxlinkdim=2 maxerr=3.37E-16 time=0.001\n",
      "After sweep 4 energy=-3.316624790351738  maxlinkdim=2 maxerr=4.20E-16 time=0.015\n",
      "After sweep 5 energy=-3.3166247903517365  maxlinkdim=2 maxerr=4.94E-16 time=0.001\n",
      "After sweep 6 energy=-3.316624790351736  maxlinkdim=2 maxerr=4.27E-16 time=0.001\n",
      "After sweep 7 energy=-3.3166247903517374  maxlinkdim=2 maxerr=3.43E-16 time=0.002\n",
      "After sweep 8 energy=-3.316624790351738  maxlinkdim=2 maxerr=3.46E-16 time=0.001\n",
      "Fidelity = 1.0\n",
      "GS energy = -3.316624790351738\n",
      "Current value: g = -0.9797979797979798\n",
      "Degeneracy = 3\n",
      "After sweep 1 energy=-1.4538552402478144  maxlinkdim=2 maxerr=3.93E-12 time=0.008\n",
      "After sweep 2 energy=-1.4538552402511646  maxlinkdim=2 maxerr=1.32E-11 time=0.001\n",
      "After sweep 3 energy=-1.4538552402546292  maxlinkdim=2 maxerr=1.26E-11 time=0.005\n",
      "After sweep 4 energy=-1.4538552402578415  maxlinkdim=2 maxerr=1.18E-11 time=0.001\n",
      "After sweep 5 energy=-1.4538552402609124  maxlinkdim=2 maxerr=1.13E-11 time=0.001\n",
      "After sweep 6 energy=-1.453855240263902  maxlinkdim=2 maxerr=1.09E-11 time=0.001\n",
      "After sweep 7 energy=-1.4538552402667573  maxlinkdim=2 maxerr=1.05E-11 time=0.002\n",
      "After sweep 8 energy=-1.4538552402695641  maxlinkdim=2 maxerr=1.01E-11 time=0.002\n",
      "Fidelity = 9.369759218946758e-12\n",
      "GS energy = -1.4538552402695641\n",
      "Current value: g = -0.9595959595959596\n",
      "Degeneracy = 2\n",
      "After sweep 1 energy=-1.4121793846636028  maxlinkdim=2 maxerr=2.71E-12 time=0.002\n",
      "After sweep 2 energy=-1.412179394146383  maxlinkdim=2 maxerr=9.99E-16 time=0.002\n",
      "After sweep 3 energy=-1.4121794035509636  maxlinkdim=2 maxerr=1.33E-15 time=0.001\n",
      "After sweep 4 energy=-1.4121794128754406  maxlinkdim=2 maxerr=1.36E-15 time=0.001\n",
      "After sweep 5 energy=-1.4121794221179884  maxlinkdim=2 maxerr=1.44E-15 time=0.001\n",
      "After sweep 6 energy=-1.4121794312768723  maxlinkdim=2 maxerr=1.22E-15 time=0.001\n",
      "After sweep 7 energy=-1.4121794403504384  maxlinkdim=2 maxerr=8.88E-16 time=0.001\n",
      "After sweep 8 energy=-1.4121794493371198  maxlinkdim=2 maxerr=1.44E-15 time=0.001\n",
      "Fidelity = 0.13765175696588028\n",
      "GS energy = -1.4121794493371198\n",
      "Current value: g = -0.9393939393939394\n",
      "Degeneracy = 2\n",
      "After sweep 1 energy=-1.4124026407643844  maxlinkdim=2 maxerr=8.97E-16 time=0.002\n",
      "After sweep 2 energy=-1.4124026407643953  maxlinkdim=2 maxerr=3.52E-16 time=0.002\n",
      "After sweep 3 energy=-1.4124026407644086  maxlinkdim=2 maxerr=4.92E-16 time=0.002\n",
      "After sweep 4 energy=-1.4124026407644248  maxlinkdim=2 maxerr=1.40E-15 time=0.001\n",
      "After sweep 5 energy=-1.4124026407644459  maxlinkdim=2 maxerr=3.87E-16 time=0.002\n",
      "After sweep 6 energy=-1.412402640764473  maxlinkdim=2 maxerr=4.99E-16 time=0.001\n",
      "After sweep 7 energy=-1.4124026407645198  maxlinkdim=2 maxerr=1.81E-15 time=0.001\n",
      "After sweep 8 energy=-1.412402640764615  maxlinkdim=2 maxerr=4.51E-16 time=0.002\n",
      "Fidelity = 0.9999906114222269\n",
      "GS energy = -1.412402640764615\n",
      "Current value: g = -0.9191919191919192\n",
      "Degeneracy = 2\n",
      "After sweep 1 energy=-1.4126167943560335  maxlinkdim=2 maxerr=5.55E-16 time=0.006\n",
      "After sweep 2 energy=-1.4126167943560364  maxlinkdim=2 maxerr=5.07E-16 time=0.001\n",
      "After sweep 3 energy=-1.4126167943560362  maxlinkdim=2 maxerr=3.97E-16 time=0.001\n",
      "After sweep 4 energy=-1.412616794356042  maxlinkdim=2 maxerr=3.88E-16 time=0.001\n",
      "After sweep 5 energy=-1.4126167943560666  maxlinkdim=2 maxerr=3.73E-16 time=0.001\n",
      "After sweep 6 energy=-1.4126167943561658  maxlinkdim=2 maxerr=3.39E-16 time=0.002\n",
      "After sweep 7 energy=-1.412616799524317  maxlinkdim=2 maxerr=1.33E-14 time=0.001\n",
      "After sweep 8 energy=-1.4126167995245875  maxlinkdim=2 maxerr=6.72E-16 time=0.002\n",
      "Fidelity = 1.4277087898517037e-7\n",
      "GS energy = -1.4126167995245875\n",
      "Current value: g = -0.898989898989899\n",
      "Degeneracy = 2\n",
      "After sweep 1 energy=-1.4128181116739182  maxlinkdim=2 maxerr=6.66E-16 time=0.002\n",
      "After sweep 2 energy=-1.4128181116739318  maxlinkdim=2 maxerr=3.98E-16 time=0.001\n",
      "After sweep 3 energy=-1.4128181233024977  maxlinkdim=2 maxerr=8.75E-16 time=0.001\n",
      "After sweep 4 energy=-1.4128181233025863  maxlinkdim=2 maxerr=4.58E-15 time=0.001\n",
      "After sweep 5 energy=-1.4128181233025885  maxlinkdim=2 maxerr=8.57E-16 time=0.001\n",
      "After sweep 6 energy=-1.4128181233025898  maxlinkdim=2 maxerr=5.55E-16 time=0.001\n",
      "After sweep 7 energy=-1.4128181233025892  maxlinkdim=2 maxerr=4.09E-16 time=0.006\n",
      "After sweep 8 energy=-1.4128181233025898  maxlinkdim=2 maxerr=7.77E-16 time=0.002\n",
      "Fidelity = 7.88147234399035e-8\n",
      "GS energy = -1.4128181233025898\n",
      "Current value: g = -0.8787878787878788\n"
     ]
    },
    {
     "ename": "InterruptException",
     "evalue": "InterruptException:",
     "output_type": "error",
     "traceback": [
      "InterruptException:\n",
      "\n",
      "Stacktrace:\n",
      "  [1] lookup(pointer::Ptr{Nothing})\n",
      "    @ Base.StackTraces ./stacktraces.jl:108\n",
      "  [2] process_backtrace(t::Vector{Union{Ptr{Nothing}, Base.InterpreterIP}}, limit::Int64; skipC::Bool)\n",
      "    @ Base ./errorshow.jl:939\n",
      "  [3] process_backtrace (repeats 2 times)\n",
      "    @ ./errorshow.jl:929 [inlined]\n",
      "  [4] show_backtrace(io::IOBuffer, t::Vector{Union{Ptr{Nothing}, Base.InterpreterIP}})\n",
      "    @ Base ./errorshow.jl:805\n",
      "  [5] warn_once(msg::String, funcsym::Symbol; force::Bool, stacktrace::Bool)\n",
      "    @ ITensors ~/.julia/packages/ITensors/AQFcD/src/utils.jl:8\n",
      "  [6] warn_once\n",
      "    @ ~/.julia/packages/ITensors/AQFcD/src/utils.jl:5 [inlined]\n",
      "  [7] deprecate_make_inds_match!(::typeof(ITensorMPS._log_or_not_dot), M1dag::MPS, M2::MPS, loginner::Bool; make_inds_match::Bool)\n",
      "    @ ITensorMPS ~/.julia/packages/ITensorMPS/JFTPj/src/abstractmps.jl:1092\n",
      "  [8] deprecate_make_inds_match!\n",
      "    @ ~/.julia/packages/ITensorMPS/JFTPj/src/abstractmps.jl:1057 [inlined]\n",
      "  [9] _log_or_not_dot(M1::MPS, M2::MPS, loginner::Bool; make_inds_match::Bool)\n",
      "    @ ITensorMPS ~/.julia/packages/ITensorMPS/JFTPj/src/abstractmps.jl:1107\n",
      " [10] _log_or_not_dot\n",
      "    @ ~/.julia/packages/ITensorMPS/JFTPj/src/abstractmps.jl:1098 [inlined]\n",
      " [11] #dot#295\n",
      "    @ ~/.julia/packages/ITensorMPS/JFTPj/src/abstractmps.jl:1158 [inlined]\n",
      " [12] dot\n",
      "    @ ~/.julia/packages/ITensorMPS/JFTPj/src/abstractmps.jl:1157 [inlined]\n",
      " [13] inner\n",
      "    @ ~/.julia/packages/ITensorMPS/JFTPj/src/abstractmps.jl:1200 [inlined]\n",
      " [14] generate_correlation_matrix(hl::Main.HL1D.HamiltonianLearner)\n",
      "    @ Main.HL1D ~/Documents/GitProjects/TNS_MaterialDesign/src/HL1D_utils.jl:128\n",
      " [15] LearnHamiltonian_corr_mat(hl::Main.HL1D.HamiltonianLearner)\n",
      "    @ Main.HL1D ~/Documents/GitProjects/TNS_MaterialDesign/src/HL1D_utils.jl:185\n",
      " [16] top-level scope\n",
      "    @ ~/Documents/GitProjects/TNS_MaterialDesign/jl_notebook_cell_df34fa98e69747e1a8f8a730347b8e2f_W1sZmlsZQ==.jl:15"
     ]
    }
   ],
   "source": [
    "N = 5\n",
    "\n",
    "λ_vals, Fidelities_HL = [], []\n",
    "H_params, delta_E_HL = [], []\n",
    "HL_X_exp, HL_O_exp, HL_ZZ_exp = [], [], []\n",
    "\n",
    "for ind_g in 1:length(g_vals)\n",
    "    println(\"Current value: g = $(g_vals[ind_g])\")\n",
    "    θ_g = all_params_mat[:, ind_g]\n",
    "\n",
    "    qr_g = QR1D.QuantumResource1D(N)\n",
    "    psi_g = QR1D.apply_ladder_circuit(qr_g, θ_g)\n",
    "\n",
    "    hl_g = HL1D.HamiltonianLearner(psi_g)\n",
    "    λ_min_g, v_min_g = HL1D.LearnHamiltonian_corr_mat(hl_g)\n",
    "\n",
    "    push!(λ_vals, λ_min_g)\n",
    "    push!(H_params, v_min_g)\n",
    "    push!(delta_E_HL, hl_g.E_psi - hl_g.E_GS)\n",
    "    push!(Fidelities_HL, hl_g.Fidelity)\n",
    "\n",
    "    push!(HL_X_exp, real(inner(hl_g.ψ_GS, qr_g.aux_ops[1], hl_g.ψ_GS)))\n",
    "    push!(HL_O_exp, real(inner(hl_g.ψ_GS, qr_g.aux_ops[2], hl_g.ψ_GS)))\n",
    "    push!(HL_ZZ_exp, real(inner(hl_g.ψ_GS, qr_g.aux_ops[3], hl_g.ψ_GS)))\n",
    "end"
   ]
  },
  {
   "cell_type": "markdown",
   "id": "4d280616",
   "metadata": {},
   "source": [
    "Plotting"
   ]
  },
  {
   "cell_type": "code",
   "execution_count": 17,
   "id": "c77c7cc7",
   "metadata": {},
   "outputs": [
    {
     "name": "stdout",
     "output_type": "stream",
     "text": []
    },
    {
     "name": "stdout",
     "output_type": "stream",
     "text": []
    },
    {
     "name": "stdout",
     "output_type": "stream",
     "text": []
    },
    {
     "name": "stderr",
     "output_type": "stream",
     "text": [
      "attempt to save state beyond implementation limit\n",
      "attempt to save state beyond implementation limit\n",
      "attempt to save state beyond implementation limit\n",
      "attempt to save state beyond implementation limit\n",
      "attempt to save state beyond implementation limit\n",
      "attempt to save state beyond implementation limit\n",
      "attempt to save state beyond implementation limit\n",
      "attempt to save state beyond implementation limit\n",
      "attempt to save state beyond implementation limit\n"
     ]
    }
   ],
   "source": [
    "#Verify that the state is the GS of the learned H\n",
    "pl1 = plot(g_vals, delta_E_HL, label=\"delta E\", title=\"Energy relative to GS g\", xlabel=\"g\", ylabel=\"delta E\")\n",
    "pl2 = plot(g_vals, λ_vals, label=\"λ_vals\", xlabel=\"g\", ylabel=\"λ\")\n",
    "pl3 = plot(g_vals, Fidelities_HL, label=\"F\", xlabel=\"g\", ylabel=\"F\")\n",
    "\n",
    "display(pl1)\n",
    "display(pl2)\n",
    "display(pl3)"
   ]
  },
  {
   "cell_type": "code",
   "execution_count": 18,
   "id": "ff8af357",
   "metadata": {},
   "outputs": [
    {
     "name": "stdout",
     "output_type": "stream",
     "text": []
    },
    {
     "name": "stderr",
     "output_type": "stream",
     "text": [
      "attempt to save state beyond implementation limit\n"
     ]
    }
   ],
   "source": [
    "p = plot(g_vals, HL_O_exp, label=\"<O>\",linewidth=1);\n",
    "plot!(p, g_vals, HL_ZZ_exp / (N - 1), label=\"<ZZ>\",linestyle=:dash,linewidth=3);\n",
    "display(p)"
   ]
  },
  {
   "cell_type": "code",
   "execution_count": 19,
   "id": "9bf1d7ae",
   "metadata": {},
   "outputs": [
    {
     "ename": "BoundsError",
     "evalue": "BoundsError: attempt to access 6-element Vector{Any} at index [80]",
     "output_type": "error",
     "traceback": [
      "BoundsError: attempt to access 6-element Vector{Any} at index [80]\n",
      "\n",
      "Stacktrace:\n",
      " [1] throw_boundserror(A::Vector{Any}, I::Tuple{Int64})\n",
      "   @ Base ./essentials.jl:14\n",
      " [2] getindex(A::Vector{Any}, i::Int64)\n",
      "   @ Base ./essentials.jl:916\n",
      " [3] macro expansion\n",
      "   @ show.jl:1232 [inlined]\n",
      " [4] top-level scope\n",
      "   @ ~/Documents/GitProjects/TNS_MaterialDesign/jl_notebook_cell_df34fa98e69747e1a8f8a730347b8e2f_X22sZmlsZQ==.jl:2"
     ]
    }
   ],
   "source": [
    "ind = 80\n",
    "@show Fidelities_HL[ind]\n",
    "\n",
    "v = H_params[ind]\n",
    "bar(1:length(v), v;\n",
    "    xlabel=\"Index\",\n",
    "    ylabel=\"learned H\",\n",
    "    legend=false,\n",
    "    lw=2,\n",
    "    ylim=(-1.1, 1.1),\n",
    "    title=\"Hamiltonian for g = $(g_vals[ind])\"\n",
    "    )"
   ]
  },
  {
   "cell_type": "code",
   "execution_count": 20,
   "id": "34042491",
   "metadata": {},
   "outputs": [
    {
     "name": "stdout",
     "output_type": "stream",
     "text": []
    },
    {
     "name": "stderr",
     "output_type": "stream",
     "text": [
      "attempt to save state beyond implementation limit\n",
      "attempt to save state beyond implementation limit\n",
      "attempt to save state beyond implementation limit\n",
      "attempt to save state beyond implementation limit\n",
      "attempt to save state beyond implementation limit\n"
     ]
    }
   ],
   "source": [
    "#Analsysis of the learned H\n",
    "param4_vals = [v[4] for v in H_params]\n",
    "param9_vals = [v[9] for v in H_params]\n",
    "\n",
    "pl1 = plot(g_vals, param4_vals, label=\"4\", xlabel=\"g\", ylabel=\"strength\")\n",
    "plot!(pl1, g_vals, param9_vals, label=\"9\", xlabel=\"g\", ylabel=\"strength\")"
   ]
  },
  {
   "cell_type": "code",
   "execution_count": 21,
   "id": "b70dfe81",
   "metadata": {},
   "outputs": [],
   "source": []
  }
 ],
 "metadata": {
  "kernelspec": {
   "display_name": "Julia 1.11.5",
   "language": "julia",
   "name": "julia-1.11"
  },
  "language_info": {
   "file_extension": ".jl",
   "mimetype": "application/julia",
   "name": "julia",
   "version": "1.11.5"
  }
 },
 "nbformat": 4,
 "nbformat_minor": 5
}
