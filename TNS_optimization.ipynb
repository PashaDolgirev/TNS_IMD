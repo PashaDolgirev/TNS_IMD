{
 "cells": [
  {
   "cell_type": "code",
   "execution_count": 15,
   "id": "56796ee5",
   "metadata": {},
   "outputs": [
    {
     "name": "stdout",
     "output_type": "stream",
     "text": [
      "None\n",
      "False\n"
     ]
    },
    {
     "ename": "AttributeError",
     "evalue": "module 'tensorflow' has no attribute 'constant'",
     "output_type": "error",
     "traceback": [
      "\u001b[0;31m---------------------------------------------------------------------------\u001b[0m",
      "\u001b[0;31mAttributeError\u001b[0m                            Traceback (most recent call last)",
      "Cell \u001b[0;32mIn[15], line 27\u001b[0m\n\u001b[1;32m     24\u001b[0m prod_tensors \u001b[38;5;241m=\u001b[39m []\n\u001b[1;32m     25\u001b[0m \u001b[38;5;28;01mfor\u001b[39;00m _ \u001b[38;5;129;01min\u001b[39;00m \u001b[38;5;28mrange\u001b[39m(N):\n\u001b[1;32m     26\u001b[0m     \u001b[38;5;66;03m# shape (2,) → reshape into (1,2,1)\u001b[39;00m\n\u001b[0;32m---> 27\u001b[0m     v \u001b[38;5;241m=\u001b[39m tf\u001b[38;5;241m.\u001b[39mconstant([\u001b[38;5;241m1.0\u001b[39m, \u001b[38;5;241m0.0\u001b[39m], dtype\u001b[38;5;241m=\u001b[39mtf\u001b[38;5;241m.\u001b[39mcomplex64)\n\u001b[1;32m     28\u001b[0m     prod_tensors\u001b[38;5;241m.\u001b[39mappend(tf\u001b[38;5;241m.\u001b[39mreshape(v, (\u001b[38;5;241m1\u001b[39m,\u001b[38;5;241m2\u001b[39m,\u001b[38;5;241m1\u001b[39m)))\n\u001b[1;32m     30\u001b[0m \u001b[38;5;66;03m# initialize FiniteMPS (in canonical form)\u001b[39;00m\n",
      "\u001b[0;31mAttributeError\u001b[0m: module 'tensorflow' has no attribute 'constant'"
     ]
    }
   ],
   "source": [
    "import numpy as np\n",
    "import matplotlib.pyplot as plt\n",
    "import scipy.special as sp\n",
    "import scipy.integrate as spi\n",
    "\n",
    "from scipy.optimize import brentq, fsolve\n",
    "from scipy.integrate import quad\n",
    "import time\n",
    "import os\n",
    "\n",
    "import tensorflow as tf\n",
    "print(tf.__file__)      # should point into site‑packages\n",
    "print(hasattr(tf, 'constant'))  # True\n",
    "import tensornetwork as tn\n",
    "\n",
    "# Set TensorNetwork to use the TensorFlow backend (needed for autodiff)\n",
    "tn.set_default_backend(\"tensorflow\")\n",
    "\n",
    "\n",
    "N = 5 #number of qubits\n",
    "\n",
    "# each site tensor has shape (chi_left=1, d=2, chi_right=1)\n",
    "# Initialise all the qubits in |0>, i.e., A[0]=1, A[1]=0\n",
    "prod_tensors = []\n",
    "for _ in range(N):\n",
    "    # shape (2,) → reshape into (1,2,1)\n",
    "    v = tf.constant([1.0, 0.0], dtype=tf.complex64)\n",
    "    prod_tensors.append(tf.reshape(v, (1,2,1)))\n",
    "\n",
    "# initialize FiniteMPS (in canonical form)\n",
    "psi_initial = tn.FiniteMPS(prod_tensors, canonicalize=True)\n",
    "\n",
    "# Hadamard\n",
    "H_gate = tf.constant([[1.0,  1.0],\n",
    "                 [1.0, -1.0]], dtype=tf.complex64) / tf.cast(tf.sqrt(2.0), tf.complex64)\n",
    "\n",
    "# apply it on the first site by contracting over the physical index:\n",
    "# new A[0]_{α,s',β} = Σ_s H[s',s] · A[0]_{α,s,β}\n",
    "A0 = psi_initial.tensors[0] # shape (1,2,1)\n",
    "A0 = tf.tensordot(H_gate, A0, axes=([1],[1]))  # → (2,1,1)\n",
    "psi_initial.tensors[0] = tf.transpose(A0, (1,0,2))  \n"
   ]
  },
  {
   "cell_type": "code",
   "execution_count": null,
   "id": "3b29e573",
   "metadata": {},
   "outputs": [
    {
     "name": "stdout",
     "output_type": "stream",
     "text": [
      "Two-qubit gate shape: (2, 2, 2, 2)\n"
     ]
    }
   ],
   "source": [
    "#Two-qubit unitary\n",
    "I = tf.constant([\n",
    "        [1 + 0j, 0 + 0j],\n",
    "        [0 + 0j,  1 + 0j]\n",
    "    ], dtype=tf.complex64)\n",
    "X = tf.constant([\n",
    "        [0 + 0j, 1 + 0j],\n",
    "        [1 + 0j,  0 + 0j]\n",
    "    ], dtype=tf.complex64)\n",
    "Y = tf.constant([\n",
    "        [0 + 0j, 0 - 1j],\n",
    "        [0 + 1j,  0 + 0j]\n",
    "    ], dtype=tf.complex64)\n",
    "Z = tf.constant([\n",
    "        [1 + 0j, 0 + 0j],\n",
    "        [0 + 0j,  -1 + 0j]\n",
    "    ], dtype=tf.complex64)\n",
    "\n",
    "# 15 Hermitian generator basis: \n",
    "# 9 two-site interactions + 3 local on qubit 1 + 3 local on qubit 2\n",
    "paulis = [X, Y, Z]\n",
    "basis_list = []\n",
    "\n",
    "# Interaction terms sigma^a ⊗ sigma^b (a,b in {X,Y,Z})\n",
    "for A in paulis:\n",
    "    for B in paulis:\n",
    "        basis_list.append(tf.linalg.LinearOperatorKronecker([tf.linalg.LinearOperatorFullMatrix(A),\n",
    "                                                              tf.linalg.LinearOperatorFullMatrix(B)])\n",
    "                          .to_dense())\n",
    "\n",
    "\n",
    "# Single-qubit rotations on 1: sigma^a ⊗ I\n",
    "for A in paulis:\n",
    "    basis_list.append(tf.linalg.LinearOperatorKronecker([tf.linalg.LinearOperatorFullMatrix(A),\n",
    "                                                          tf.linalg.LinearOperatorFullMatrix(I)])\n",
    "                      .to_dense())\n",
    "\n",
    "# Single-qubit rotations on 2: I ⊗ sigma^a\n",
    "for B in paulis:\n",
    "    basis_list.append(tf.linalg.LinearOperatorKronecker([tf.linalg.LinearOperatorFullMatrix(I),\n",
    "                                                          tf.linalg.LinearOperatorFullMatrix(B)])\n",
    "                      .to_dense())\n",
    "\n",
    "# Stack into a (15,4,4) tensor\n",
    "basis = tf.stack(basis_list, axis=0)  # shape (15,4,4)\n",
    "\n",
    "\n",
    "@tf.function\n",
    "def make_two_qubit_unitary(theta):\n",
    "    # theta: real tf.Tensor shape (15,)\n",
    "    theta_c = tf.cast(theta, tf.complex64)               # → complex64\n",
    "    H = tf.tensordot(theta_c, basis, axes=([0],[0]))    # shape (4,4)\n",
    "    U_flat = tf.linalg.expm(-1j * H)                     # shape (4,4)\n",
    "    return tf.reshape(U_flat, [2,2,2,2])                 # shape (2,2,2,2)\n",
    "\n",
    "\n",
    "\n",
    "theta = tf.Variable(tf.random.normal([15], dtype=tf.float32))\n",
    "U_gate = make_two_qubit_unitary(theta)\n",
    "\n",
    "# U_gate is ready to apply in your two-site update\n",
    "print(\"Two-qubit gate shape:\", U_gate.shape)"
   ]
  },
  {
   "cell_type": "code",
   "execution_count": null,
   "id": "7d3445eb",
   "metadata": {},
   "outputs": [],
   "source": [
    "#Cost function\n",
    "mpo_tensors = []\n",
    "for _ in range(N):\n",
    "    t = tf.reshape(X, (1, 1, 2, 2))   # (phys_in, phys_out, W_left, W_right)\n",
    "    mpo_tensors.append(t)\n",
    "\n",
    "mpo_X = FiniteMPO(mpo_tensors) #creates the string X1 X2 ... XN"
   ]
  },
  {
   "cell_type": "code",
   "execution_count": null,
   "id": "38fb8dd8",
   "metadata": {},
   "outputs": [
    {
     "ename": "AttributeError",
     "evalue": "'FiniteMPS' object has no attribute 'expectation_value'",
     "output_type": "error",
     "traceback": [
      "\u001b[0;31m---------------------------------------------------------------------------\u001b[0m",
      "\u001b[0;31mAttributeError\u001b[0m                            Traceback (most recent call last)",
      "Cell \u001b[0;32mIn[73], line 1\u001b[0m\n\u001b[0;32m----> 1\u001b[0m psi_initial\u001b[38;5;241m.\u001b[39mexpectation_value(mpo_X)\n",
      "\u001b[0;31mAttributeError\u001b[0m: 'FiniteMPS' object has no attribute 'expectation_value'"
     ]
    }
   ],
   "source": [
    "psi_initial.expectation_value(mpo_X) "
   ]
  },
  {
   "cell_type": "code",
   "execution_count": null,
   "id": "9b99b930",
   "metadata": {},
   "outputs": [],
   "source": []
  }
 ],
 "metadata": {
  "kernelspec": {
   "display_name": "base",
   "language": "python",
   "name": "python3"
  },
  "language_info": {
   "codemirror_mode": {
    "name": "ipython",
    "version": 3
   },
   "file_extension": ".py",
   "mimetype": "text/x-python",
   "name": "python",
   "nbconvert_exporter": "python",
   "pygments_lexer": "ipython3",
   "version": "3.11.5"
  }
 },
 "nbformat": 4,
 "nbformat_minor": 5
}
